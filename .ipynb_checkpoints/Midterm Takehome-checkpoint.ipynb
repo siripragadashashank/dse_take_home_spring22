{
 "cells": [
  {
   "cell_type": "markdown",
   "id": "10ce18de",
   "metadata": {},
   "source": [
    "## Part A"
   ]
  },
  {
   "cell_type": "code",
   "execution_count": 70,
   "id": "0b816d1b",
   "metadata": {},
   "outputs": [
    {
     "name": "stderr",
     "output_type": "stream",
     "text": [
      "[nltk_data] Downloading package stopwords to\n",
      "[nltk_data]     C:\\Users\\sachi\\AppData\\Roaming\\nltk_data...\n",
      "[nltk_data]   Package stopwords is already up-to-date!\n"
     ]
    }
   ],
   "source": [
    "import pandas as pd\n",
    "import matplotlib.pyplot as plt\n",
    "import numpy as np\n",
    "from wordcloud import WordCloud,STOPWORDS\n",
    "import nltk\n",
    "nltk.download('stopwords')\n",
    "from nltk.corpus import stopwords\n",
    "import text2emotion as te"
   ]
  },
  {
   "cell_type": "code",
   "execution_count": 71,
   "id": "3a9516a1",
   "metadata": {},
   "outputs": [
    {
     "name": "stdout",
     "output_type": "stream",
     "text": [
      "['i', 'me', 'my', 'myself', 'we', 'our', 'ours', 'ourselves', 'you', 'your', 'yours', 'yourself', 'yourselves', 'he', 'him', 'his', 'himself', 'she', 'her', 'hers', 'herself', 'it', 'its', 'itself', 'they', 'them', 'their', 'theirs', 'themselves', 'what', 'which', 'who', 'whom', 'this', 'that', 'these', 'those', 'am', 'is', 'are', 'was', 'were', 'be', 'been', 'being', 'have', 'has', 'had', 'having', 'do', 'does', 'did', 'doing', 'a', 'an', 'the', 'and', 'but', 'if', 'or', 'because', 'as', 'until', 'while', 'of', 'at', 'by', 'for', 'with', 'about', 'against', 'between', 'into', 'through', 'during', 'before', 'after', 'above', 'below', 'to', 'from', 'up', 'down', 'in', 'out', 'on', 'off', 'over', 'under', 'again', 'further', 'then', 'once', 'here', 'there', 'when', 'where', 'why', 'how', 'all', 'any', 'both', 'each', 'few', 'more', 'most', 'other', 'some', 'such', 'no', 'nor', 'not', 'only', 'own', 'same', 'so', 'than', 'too', 'very', 's', 't', 'can', 'will', 'just', 'don', 'should', 'now']\n",
      "['i', 'me', 'my', 'myself', 'we', 'our', 'ours', 'ourselves', 'you', \"you're\", \"you've\", \"you'll\", \"you'd\", 'your', 'yours', 'yourself', 'yourselves', 'he', 'him', 'his', 'himself', 'she', \"she's\", 'her', 'hers', 'herself', 'it', \"it's\", 'its', 'itself', 'they', 'them', 'their', 'theirs', 'themselves', 'what', 'which', 'who', 'whom', 'this', 'that', \"that'll\", 'these', 'those', 'am', 'is', 'are', 'was', 'were', 'be', 'been', 'being', 'have', 'has', 'had', 'having', 'do', 'does', 'did', 'doing', 'a', 'an', 'the', 'and', 'but', 'if', 'or', 'because', 'as', 'until', 'while', 'of', 'at', 'by', 'for', 'with', 'about', 'against', 'between', 'into', 'through', 'during', 'before', 'after', 'above', 'below', 'to', 'from', 'up', 'down', 'in', 'out', 'on', 'off', 'over', 'under', 'again', 'further', 'then', 'once', 'here', 'there', 'when', 'where', 'why', 'how', 'all', 'any', 'both', 'each', 'few', 'more', 'most', 'other', 'some', 'such', 'no', 'nor', 'not', 'only', 'own', 'same', 'so', 'than', 'too', 'very', 's', 't', 'can', 'will', 'just', 'don', \"don't\", 'should', \"should've\", 'now', 'd', 'll', 'm', 'o', 're', 've', 'y', 'ain', 'aren', \"aren't\", 'couldn', \"couldn't\", 'didn', \"didn't\", 'doesn', \"doesn't\", 'hadn', \"hadn't\", 'hasn', \"hasn't\", 'haven', \"haven't\", 'isn', \"isn't\", 'ma', 'mightn', \"mightn't\", 'mustn', \"mustn't\", 'needn', \"needn't\", 'shan', \"shan't\", 'shouldn', \"shouldn't\", 'wasn', \"wasn't\", 'weren', \"weren't\", 'won', \"won't\", 'wouldn', \"wouldn't\", 'i', 'me', 'my', 'myself', 'we', 'our', 'ours', 'ourselves', 'you', 'your', 'yours', 'yourself', 'yourselves', 'he', 'him', 'his', 'himself', 'she', 'her', 'hers', 'herself', 'it', 'its', 'itself', 'they', 'them', 'their', 'theirs', 'themselves', 'what', 'which', 'who', 'whom', 'this', 'that', 'these', 'those', 'am', 'is', 'are', 'was', 'were', 'be', 'been', 'being', 'have', 'has', 'had', 'having', 'do', 'does', 'did', 'doing', 'a', 'an', 'the', 'and', 'but', 'if', 'or', 'because', 'as', 'until', 'while', 'of', 'at', 'by', 'for', 'with', 'about', 'against', 'between', 'into', 'through', 'during', 'before', 'after', 'above', 'below', 'to', 'from', 'up', 'down', 'in', 'out', 'on', 'off', 'over', 'under', 'again', 'further', 'then', 'once', 'here', 'there', 'when', 'where', 'why', 'how', 'all', 'any', 'both', 'each', 'few', 'more', 'most', 'other', 'some', 'such', 'no', 'nor', 'not', 'only', 'own', 'same', 'so', 'than', 'too', 'very', 's', 't', 'can', 'will', 'just', 'don', 'should', 'now']\n"
     ]
    },
    {
     "data": {
      "text/plain": [
       "<wordcloud.wordcloud.WordCloud at 0x25c947ced00>"
      ]
     },
     "execution_count": 71,
     "metadata": {},
     "output_type": "execute_result"
    }
   ],
   "source": [
    "#Read text \n",
    "text = open('t8.shakespeare.txt',mode='r',encoding='utf-8').read()\n",
    "\n",
    "our_stop_words = []\n",
    "with open('stopwords.txt', 'r') as file:\n",
    "    words = file.readlines()\n",
    "    for word in words:\n",
    "        our_stop_words.append(word.strip())\n",
    "    \n",
    "print(our_stop_words)\n",
    "\n",
    "stpwrd = nltk.corpus.stopwords.words('english')\n",
    "stpwrd.extend(our_stop_words)\n",
    "print(stpwrd)\n",
    "\n",
    "wc = WordCloud(background_color=\"white\", stopwords=stpwrd, height=600, width=400)\n",
    "wc.generate(text)\n",
    "\n",
    "# store to file\n",
    "wc.to_file(\"wordcloud_output.png\")\n"
   ]
  },
  {
   "cell_type": "code",
   "execution_count": 72,
   "id": "02f62402",
   "metadata": {},
   "outputs": [
    {
     "data": {
      "text/plain": [
       "<matplotlib.image.AxesImage at 0x25c9473c5b0>"
      ]
     },
     "execution_count": 72,
     "metadata": {},
     "output_type": "execute_result"
    },
    {
     "data": {
      "image/png": "[encoded data removed]",
      "text/plain": [
       "<Figure size 432x288 with 1 Axes>"
      ]
     },
     "metadata": {
      "needs_background": "light"
     },
     "output_type": "display_data"
    }
   ],
   "source": [
    "plt.imshow(wc)"
   ]
  },
  {
   "cell_type": "code",
   "execution_count": 73,
   "id": "ee3c467a",
   "metadata": {},
   "outputs": [],
   "source": [
    "# with open('t8.shakespeare.txt','r') as f:\n",
    "# \tlistl=[]\n",
    "# \tfor line in f:\n",
    "# \t\tstrip_lines=line.strip()\n",
    "# \t\tlistli=strip_lines.split()\n",
    "# \t\tprint(listli)\n",
    "# \t\tm=listl.append(listli)\n",
    "# \tprint(listl)"
   ]
  },
  {
   "cell_type": "code",
   "execution_count": 74,
   "id": "bb47cbac",
   "metadata": {},
   "outputs": [],
   "source": [
    "# # remove a line containing a string\n",
    "# with open(\"t8.shakespeare.txt\",'r') as file:\n",
    "#     lines = file.readlines()\n",
    "\n",
    "# with open(\"t8.shakespeare.txt\",'w') as file:\n",
    "#     for line in lines:\n",
    "#         # find() returns -1 if no match is found\n",
    "#         if line.find('''<<THIS ELECTRONIC VERSION OF THE COMPLETE WORKS OF WILLIAM\n",
    "# SHAKESPEARE IS COPYRIGHT 1990-1993 BY WORLD LIBRARY, INC., AND IS\n",
    "# PROVIDED BY PROJECT GUTENBERG ETEXT OF ILLINOIS BENEDICTINE COLLEGE\n",
    "# WITH PERMISSION.  ELECTRONIC AND MACHINE READABLE COPIES MAY BE\n",
    "# DISTRIBUTED SO LONG AS SUCH COPIES (1) ARE FOR YOUR OR OTHERS\n",
    "# PERSONAL USE ONLY, AND (2) ARE NOT DISTRIBUTED OR USED\n",
    "# COMMERCIALLY.  PROHIBITED COMMERCIAL DISTRIBUTION INCLUDES BY ANY\n",
    "# SERVICE THAT CHARGES FOR DOWNLOAD TIME OR FOR MEMBERSHIP.>>''') != -1:\n",
    "#             pass\n",
    "#         else:\n",
    "#             file.write(line)"
   ]
  },
  {
   "cell_type": "code",
   "execution_count": 75,
   "id": "da5263aa",
   "metadata": {},
   "outputs": [],
   "source": [
    "# with open(\"t8.shakespeare.txt\", 'r') as file:\n",
    "#     lines = file.readlines()\n",
    "\n",
    "# # delete matching content\n",
    "# content = ''''<<THIS ELECTRONIC VERSION OF THE COMPLETE WORKS OF WILLIAM\n",
    "# SHAKESPEARE IS COPYRIGHT 1990-1993 BY WORLD LIBRARY, INC., AND IS\n",
    "# PROVIDED BY PROJECT GUTENBERG ETEXT OF ILLINOIS BENEDICTINE COLLEGE\n",
    "# WITH PERMISSION.  ELECTRONIC AND MACHINE READABLE COPIES MAY BE\n",
    "# DISTRIBUTED SO LONG AS SUCH COPIES (1) ARE FOR YOUR OR OTHERS\n",
    "# PERSONAL USE ONLY, AND (2) ARE NOT DISTRIBUTED OR USED\n",
    "# COMMERCIALLY.  PROHIBITED COMMERCIAL DISTRIBUTION INCLUDES BY ANY\n",
    "# SERVICE THAT CHARGES FOR DOWNLOAD TIME OR FOR MEMBERSHIP.>>'''\n",
    "# with open(\"t8.shakespeare.txt\", 'w') as file:\n",
    "#     for line in lines:\n",
    "#         # readlines() includes a newline character\n",
    "#         if line.strip(\"\\n\") != content:\n",
    "#             file.write(line)"
   ]
  },
  {
   "cell_type": "markdown",
   "id": "bd0ede53",
   "metadata": {},
   "source": [
    "### What's the average number of words per sentence?"
   ]
  },
  {
   "cell_type": "markdown",
   "id": "9a2a2f42",
   "metadata": {},
   "source": [
    "Now let us  find the total number of words in the TXT file "
   ]
  },
  {
   "cell_type": "code",
   "execution_count": 76,
   "id": "edd19ad2",
   "metadata": {},
   "outputs": [
    {
     "name": "stdout",
     "output_type": "stream",
     "text": [
      "Number of words in text file : 883331\n"
     ]
    }
   ],
   "source": [
    "file = open(\"t8.shakespeare.txt\", \"rt\")\n",
    "data = file.read()\n",
    "words = data.split()\n",
    "x= len(words)\n",
    "print('Number of words in text file :',x)\n"
   ]
  },
  {
   "cell_type": "code",
   "execution_count": 77,
   "id": "77ebcc3c",
   "metadata": {},
   "outputs": [
    {
     "data": {
      "text/plain": [
       "883331"
      ]
     },
     "execution_count": 77,
     "metadata": {},
     "output_type": "execute_result"
    }
   ],
   "source": [
    "x"
   ]
  },
  {
   "cell_type": "markdown",
   "id": "8f762ed0",
   "metadata": {},
   "source": [
    "By using the following code let us remove blank or empty lines"
   ]
  },
  {
   "cell_type": "code",
   "execution_count": 78,
   "id": "d156f6ad",
   "metadata": {},
   "outputs": [
    {
     "data": {
      "text/plain": [
       "5328856"
      ]
     },
     "execution_count": 78,
     "metadata": {},
     "output_type": "execute_result"
    }
   ],
   "source": [
    "import sys\n",
    "output=\"\"\n",
    "with open(\"t8.shakespeare.txt\") as f:\n",
    "    for line in f:\n",
    "        if not line.isspace():\n",
    "            output+=line\n",
    "            \n",
    "f= open(\"t8.shakespeare.txt\",\"w\")\n",
    "f.write(output)"
   ]
  },
  {
   "cell_type": "markdown",
   "id": "ad3a2a3e",
   "metadata": {},
   "source": [
    "Now let us find out the total number of line in the txt file"
   ]
  },
  {
   "cell_type": "code",
   "execution_count": 79,
   "id": "a6edd674",
   "metadata": {
    "scrolled": true
   },
   "outputs": [
    {
     "name": "stdout",
     "output_type": "stream",
     "text": [
      "Total Lines 112903\n"
     ]
    }
   ],
   "source": [
    "total_lines=0\n",
    "with open(\"t8.shakespeare.txt\", 'r') as fp:\n",
    "    for count, line in enumerate(fp):\n",
    "        pass\n",
    "    total_lines=count+1\n",
    "print('Total Lines', total_lines)"
   ]
  },
  {
   "cell_type": "markdown",
   "id": "8f729f70",
   "metadata": {},
   "source": [
    "Average number of words per line is:"
   ]
  },
  {
   "cell_type": "code",
   "execution_count": 80,
   "id": "f5e748be",
   "metadata": {},
   "outputs": [
    {
     "name": "stdout",
     "output_type": "stream",
     "text": [
      " the average number of words per sentence 7.823804504751867\n"
     ]
    }
   ],
   "source": [
    "print(' the average number of words per sentence',x/total_lines)"
   ]
  },
  {
   "cell_type": "markdown",
   "id": "48af862c",
   "metadata": {},
   "source": [
    "### the average number of words per sentence per type of publication "
   ]
  },
  {
   "cell_type": "markdown",
   "id": "ea020235",
   "metadata": {},
   "source": [
    "### Comedy"
   ]
  },
  {
   "cell_type": "markdown",
   "id": "cd1fb159",
   "metadata": {},
   "source": [
    "Now let us find the total number of words in the TXT file"
   ]
  },
  {
   "cell_type": "code",
   "execution_count": 81,
   "id": "a8839d99",
   "metadata": {},
   "outputs": [
    {
     "name": "stdout",
     "output_type": "stream",
     "text": [
      "Number of words in text file : 299412\n"
     ]
    }
   ],
   "source": [
    "file = open(\"TheComedies.txt\", \"rt\")\n",
    "data = file.read()\n",
    "words = data.split()\n",
    "c= len(words)\n",
    "print('Number of words in text file :',c)\n"
   ]
  },
  {
   "cell_type": "markdown",
   "id": "efa14a98",
   "metadata": {},
   "source": [
    "By using the following code let us remove blank or empty lines"
   ]
  },
  {
   "cell_type": "code",
   "execution_count": 82,
   "id": "e98e8e56",
   "metadata": {},
   "outputs": [
    {
     "data": {
      "text/plain": [
       "1776854"
      ]
     },
     "execution_count": 82,
     "metadata": {},
     "output_type": "execute_result"
    }
   ],
   "source": [
    "import sys\n",
    "output=\"\"\n",
    "with open(\"TheComedies.txt\") as f:\n",
    "    for line in f:\n",
    "        if not line.isspace():\n",
    "            output+=line\n",
    "            \n",
    "f= open(\"TheComedies.txt\",\"w\")\n",
    "f.write(output)"
   ]
  },
  {
   "cell_type": "markdown",
   "id": "0399d9ca",
   "metadata": {},
   "source": [
    "Now let us find out the total number of line in the txt file"
   ]
  },
  {
   "cell_type": "code",
   "execution_count": 83,
   "id": "c44e460e",
   "metadata": {},
   "outputs": [
    {
     "name": "stdout",
     "output_type": "stream",
     "text": [
      "Total Lines 36996\n"
     ]
    }
   ],
   "source": [
    "total_lines_C=0\n",
    "with open(\"TheComedies.txt\", 'r') as fp:\n",
    "    for count, line in enumerate(fp):\n",
    "        pass\n",
    "    total_lines_C=count+1\n",
    "print('Total Lines', total_lines_C)"
   ]
  },
  {
   "cell_type": "markdown",
   "id": "d8c8ea1a",
   "metadata": {},
   "source": [
    "Average number of words per line in comedy is :"
   ]
  },
  {
   "cell_type": "code",
   "execution_count": 84,
   "id": "9acd73bb",
   "metadata": {},
   "outputs": [
    {
     "name": "stdout",
     "output_type": "stream",
     "text": [
      " the average number of words per sentence in comedy 8.093091144988648\n"
     ]
    }
   ],
   "source": [
    "print(' the average number of words per sentence in comedy',c/total_lines_C)"
   ]
  },
  {
   "cell_type": "markdown",
   "id": "c0acaa57",
   "metadata": {},
   "source": [
    "### History"
   ]
  },
  {
   "cell_type": "code",
   "execution_count": 85,
   "id": "62d1b68d",
   "metadata": {},
   "outputs": [
    {
     "name": "stdout",
     "output_type": "stream",
     "text": [
      "Number of words in text file : 258100\n"
     ]
    }
   ],
   "source": [
    "file = open(\"TheHistories.txt\", \"rt\")\n",
    "data = file.read()\n",
    "words = data.split()\n",
    "h= len(words)\n",
    "print('Number of words in text file :',h)"
   ]
  },
  {
   "cell_type": "markdown",
   "id": "d2781c27",
   "metadata": {},
   "source": [
    "By using the following code let us remove blank or empty lines"
   ]
  },
  {
   "cell_type": "code",
   "execution_count": 86,
   "id": "1069874f",
   "metadata": {},
   "outputs": [
    {
     "data": {
      "text/plain": [
       "1565532"
      ]
     },
     "execution_count": 86,
     "metadata": {},
     "output_type": "execute_result"
    }
   ],
   "source": [
    "import sys\n",
    "output=\"\"\n",
    "with open(\"TheHistories.txt\") as f:\n",
    "    for line in f:\n",
    "        if not line.isspace():\n",
    "            output+=line\n",
    "            \n",
    "f= open(\"TheHistories.txt\",\"w\")\n",
    "f.write(output)"
   ]
  },
  {
   "cell_type": "markdown",
   "id": "d551ba33",
   "metadata": {},
   "source": [
    "Now let us find out the total number of line in the txt file"
   ]
  },
  {
   "cell_type": "code",
   "execution_count": 87,
   "id": "35809de9",
   "metadata": {},
   "outputs": [
    {
     "name": "stdout",
     "output_type": "stream",
     "text": [
      "Total Lines 32648\n"
     ]
    }
   ],
   "source": [
    "total_lines_H=0\n",
    "with open(\"TheHistories.txt\", 'r') as fp:\n",
    "    for count, line in enumerate(fp):\n",
    "        pass\n",
    "    total_lines_H=count+1\n",
    "print('Total Lines', total_lines_H)"
   ]
  },
  {
   "cell_type": "markdown",
   "id": "4c58c7dd",
   "metadata": {},
   "source": [
    "Average number of words per line in History is :"
   ]
  },
  {
   "cell_type": "code",
   "execution_count": 88,
   "id": "caa4cb7f",
   "metadata": {},
   "outputs": [
    {
     "name": "stdout",
     "output_type": "stream",
     "text": [
      " the average number of words per sentence in History 7.905537858368047\n"
     ]
    }
   ],
   "source": [
    "print(' the average number of words per sentence in History',h/total_lines_H)"
   ]
  },
  {
   "cell_type": "markdown",
   "id": "6c9d97cb",
   "metadata": {},
   "source": [
    "### SONNETS"
   ]
  },
  {
   "cell_type": "code",
   "execution_count": 89,
   "id": "fe7a5de1",
   "metadata": {},
   "outputs": [
    {
     "name": "stdout",
     "output_type": "stream",
     "text": [
      "Number of words in text file : 20310\n"
     ]
    }
   ],
   "source": [
    "file = open(\"TheSonnets.txt\", \"rt\")\n",
    "data = file.read()\n",
    "words = data.split()\n",
    "s= len(words)\n",
    "print('Number of words in text file :',s)"
   ]
  },
  {
   "cell_type": "markdown",
   "id": "082cde59",
   "metadata": {},
   "source": [
    "By using the following code let us remove blank or empty lines"
   ]
  },
  {
   "cell_type": "code",
   "execution_count": 90,
   "id": "730df0f6",
   "metadata": {},
   "outputs": [
    {
     "data": {
      "text/plain": [
       "117633"
      ]
     },
     "execution_count": 90,
     "metadata": {},
     "output_type": "execute_result"
    }
   ],
   "source": [
    "import sys\n",
    "output=\"\"\n",
    "with open(\"TheSonnets.txt\") as f:\n",
    "    for line in f:\n",
    "        if not line.isspace():\n",
    "            output+=line\n",
    "            \n",
    "f= open(\"TheSonnets.txt\",\"w\")\n",
    "f.write(output)"
   ]
  },
  {
   "cell_type": "markdown",
   "id": "d6b15817",
   "metadata": {},
   "source": [
    "Now let us find out the total number of line in the txt file"
   ]
  },
  {
   "cell_type": "code",
   "execution_count": 91,
   "id": "f9728c29",
   "metadata": {},
   "outputs": [
    {
     "name": "stdout",
     "output_type": "stream",
     "text": [
      "Total Lines 2645\n"
     ]
    }
   ],
   "source": [
    "total_lines_S=0\n",
    "with open(\"TheSonnets.txt\", 'r') as fp:\n",
    "    for count, line in enumerate(fp):\n",
    "        pass\n",
    "    total_lines_S=count+1\n",
    "print('Total Lines', total_lines_S)"
   ]
  },
  {
   "cell_type": "markdown",
   "id": "034bb60d",
   "metadata": {},
   "source": [
    "Average number of words per line in Sonnets is :"
   ]
  },
  {
   "cell_type": "code",
   "execution_count": 92,
   "id": "b3e936c7",
   "metadata": {},
   "outputs": [
    {
     "name": "stdout",
     "output_type": "stream",
     "text": [
      " the average number of words per sentence in Sonnets 7.678638941398866\n"
     ]
    }
   ],
   "source": [
    "print(' the average number of words per sentence in Sonnets',s/total_lines_S)"
   ]
  },
  {
   "cell_type": "markdown",
   "id": "e92aac8b",
   "metadata": {},
   "source": [
    "### Tragedy"
   ]
  },
  {
   "cell_type": "code",
   "execution_count": 93,
   "id": "46b60987",
   "metadata": {},
   "outputs": [
    {
     "name": "stdout",
     "output_type": "stream",
     "text": [
      "Number of words in text file : 305495\n"
     ]
    }
   ],
   "source": [
    "file = open(\"TheTragedies.txt\", \"rt\")\n",
    "data = file.read()\n",
    "words = data.split()\n",
    "t= len(words)\n",
    "print('Number of words in text file :',t)"
   ]
  },
  {
   "cell_type": "code",
   "execution_count": 94,
   "id": "44166bed",
   "metadata": {},
   "outputs": [
    {
     "data": {
      "text/plain": [
       "1868752"
      ]
     },
     "execution_count": 94,
     "metadata": {},
     "output_type": "execute_result"
    }
   ],
   "source": [
    "import sys\n",
    "output=\"\"\n",
    "with open(\"TheTragedies.txt\") as f:\n",
    "    for line in f:\n",
    "        if not line.isspace():\n",
    "            output+=line\n",
    "            \n",
    "f= open(\"TheTragadies.txt\",\"w\")\n",
    "f.write(output)"
   ]
  },
  {
   "cell_type": "markdown",
   "id": "f6fd3355",
   "metadata": {},
   "source": [
    "Now let us find out the total number of line in the txt file"
   ]
  },
  {
   "cell_type": "code",
   "execution_count": 95,
   "id": "90d3d8bb",
   "metadata": {},
   "outputs": [
    {
     "name": "stdout",
     "output_type": "stream",
     "text": [
      "Total Lines 40611\n"
     ]
    }
   ],
   "source": [
    "total_lines_T=0\n",
    "with open(\"TheTragadies.txt\", 'r') as fp:\n",
    "    for count, line in enumerate(fp):\n",
    "        pass\n",
    "    total_lines_T=count+1\n",
    "print('Total Lines', total_lines_T)"
   ]
  },
  {
   "cell_type": "code",
   "execution_count": 96,
   "id": "920131af",
   "metadata": {},
   "outputs": [
    {
     "name": "stdout",
     "output_type": "stream",
     "text": [
      " the average number of words per sentence in Sonnets 7.522469281721701\n"
     ]
    }
   ],
   "source": [
    "print(' the average number of words per sentence in Sonnets',t/total_lines_T)"
   ]
  },
  {
   "cell_type": "code",
   "execution_count": null,
   "id": "7c8320cf",
   "metadata": {},
   "outputs": [],
   "source": []
  },
  {
   "cell_type": "markdown",
   "id": "39ab26a2",
   "metadata": {},
   "source": [
    "# Part2"
   ]
  },
  {
   "cell_type": "markdown",
   "id": "61a105be",
   "metadata": {},
   "source": [
    "What's the probability that Shakespeare asks a question?\n"
   ]
  },
  {
   "cell_type": "code",
   "execution_count": 97,
   "id": "38bde237",
   "metadata": {},
   "outputs": [
    {
     "data": {
      "text/plain": [
       "{'?': 10475}"
      ]
     },
     "execution_count": 97,
     "metadata": {},
     "output_type": "execute_result"
    }
   ],
   "source": [
    "from string import punctuation\n",
    "from collections import Counter\n",
    "counts = Counter(open('t8.shakespeare.txt').read())\n",
    "terminals=\"?\"\n",
    "Question_counts = {k:v for k, v in counts.items() if k in terminals}\n",
    "Question_counts"
   ]
  },
  {
   "cell_type": "markdown",
   "id": "eb0fafd0",
   "metadata": {},
   "source": [
    "Probability that Shakespeare asks a question is total number of questions which is the favoured event by total lines"
   ]
  },
  {
   "cell_type": "code",
   "execution_count": 98,
   "id": "faa51dff",
   "metadata": {},
   "outputs": [
    {
     "name": "stdout",
     "output_type": "stream",
     "text": [
      " The probability that Shakespeare asks a question 0.0927787569860854\n"
     ]
    }
   ],
   "source": [
    "print(' The probability that Shakespeare asks a question',10475/total_lines)"
   ]
  },
  {
   "cell_type": "markdown",
   "id": "52faf9d4",
   "metadata": {},
   "source": [
    "# Part3\n"
   ]
  },
  {
   "cell_type": "code",
   "execution_count": 114,
   "id": "69a3f789",
   "metadata": {},
   "outputs": [
    {
     "name": "stderr",
     "output_type": "stream",
     "text": [
      "[nltk_data] Downloading package vader_lexicon to\n",
      "[nltk_data]     C:\\Users\\sachi\\AppData\\Roaming\\nltk_data...\n",
      "[nltk_data]   Package vader_lexicon is already up-to-date!\n",
      "[nltk_data] Downloading package names to\n",
      "[nltk_data]     C:\\Users\\sachi\\AppData\\Roaming\\nltk_data...\n",
      "[nltk_data]   Unzipping corpora\\names.zip.\n"
     ]
    }
   ],
   "source": [
    "import nltk\n",
    "nltk.download('vader_lexicon')\n",
    "nltk.download('names')\n",
    "\n",
    "from nltk.tokenize import word_tokenize\n",
    "# import nltk.corpus\n",
    "from nltk.corpus import stopwords\n",
    "# import nltk.sentiments.vader\n",
    "from nltk.sentiment.vader import SentimentIntensityAnalyzer\n",
    "\n",
    "\n",
    "# import string to remove punctuations\n",
    "import string\n",
    "import matplotlib.pyplot as plt\n",
    "from collections import Counter\n",
    "import operator\n",
    "import string\n",
    "import matplotlib.pyplot as plt\n",
    "from collections import Counter"
   ]
  },
  {
   "cell_type": "code",
   "execution_count": 123,
   "id": "cdedb0ed",
   "metadata": {},
   "outputs": [
    {
     "name": "stdout",
     "output_type": "stream",
     "text": [
      "298111\n"
     ]
    },
    {
     "ename": "KeyboardInterrupt",
     "evalue": "",
     "output_type": "error",
     "traceback": [
      "\u001b[1;31m---------------------------------------------------------------------------\u001b[0m",
      "\u001b[1;31mKeyboardInterrupt\u001b[0m                         Traceback (most recent call last)",
      "\u001b[1;32m~\\AppData\\Local\\Temp/ipykernel_4908/3970226225.py\u001b[0m in \u001b[0;36m<module>\u001b[1;34m\u001b[0m\n\u001b[0;32m     43\u001b[0m \u001b[1;31m# now we will find the sentiment attached to it as this\u001b[0m\u001b[1;33m\u001b[0m\u001b[1;33m\u001b[0m\u001b[0m\n\u001b[0;32m     44\u001b[0m \u001b[1;31m# function returns a dictionary\u001b[0m\u001b[1;33m\u001b[0m\u001b[1;33m\u001b[0m\u001b[0m\n\u001b[1;32m---> 45\u001b[1;33m \u001b[0msentiments\u001b[0m\u001b[1;33m=\u001b[0m\u001b[0msentimentanalysis\u001b[0m\u001b[1;33m(\u001b[0m\u001b[0mtext\u001b[0m\u001b[1;33m)\u001b[0m\u001b[1;33m\u001b[0m\u001b[1;33m\u001b[0m\u001b[0m\n\u001b[0m\u001b[0;32m     46\u001b[0m \u001b[1;31m# now we will print the sentiments\u001b[0m\u001b[1;33m\u001b[0m\u001b[1;33m\u001b[0m\u001b[0m\n\u001b[0;32m     47\u001b[0m \u001b[0mprint\u001b[0m\u001b[1;33m(\u001b[0m\u001b[0msentiments\u001b[0m\u001b[1;33m)\u001b[0m\u001b[1;33m\u001b[0m\u001b[1;33m\u001b[0m\u001b[0m\n",
      "\u001b[1;32m~\\AppData\\Local\\Temp/ipykernel_4908/3970226225.py\u001b[0m in \u001b[0;36msentimentanalysis\u001b[1;34m(text)\u001b[0m\n\u001b[0;32m     40\u001b[0m \u001b[1;31m# will create a function\u001b[0m\u001b[1;33m\u001b[0m\u001b[1;33m\u001b[0m\u001b[0m\n\u001b[0;32m     41\u001b[0m \u001b[1;32mdef\u001b[0m \u001b[0msentimentanalysis\u001b[0m\u001b[1;33m(\u001b[0m\u001b[0mtext\u001b[0m\u001b[1;33m)\u001b[0m\u001b[1;33m:\u001b[0m\u001b[1;33m\u001b[0m\u001b[1;33m\u001b[0m\u001b[0m\n\u001b[1;32m---> 42\u001b[1;33m     \u001b[1;32mreturn\u001b[0m \u001b[0mSentimentIntensityAnalyzer\u001b[0m\u001b[1;33m(\u001b[0m\u001b[1;33m)\u001b[0m\u001b[1;33m.\u001b[0m\u001b[0mpolarity_scores\u001b[0m\u001b[1;33m(\u001b[0m\u001b[0mtext\u001b[0m\u001b[1;33m)\u001b[0m\u001b[1;33m\u001b[0m\u001b[1;33m\u001b[0m\u001b[0m\n\u001b[0m\u001b[0;32m     43\u001b[0m \u001b[1;31m# now we will find the sentiment attached to it as this\u001b[0m\u001b[1;33m\u001b[0m\u001b[1;33m\u001b[0m\u001b[0m\n\u001b[0;32m     44\u001b[0m \u001b[1;31m# function returns a dictionary\u001b[0m\u001b[1;33m\u001b[0m\u001b[1;33m\u001b[0m\u001b[0m\n",
      "\u001b[1;32m~\\anaconda3\\lib\\site-packages\\nltk\\sentiment\\vader.py\u001b[0m in \u001b[0;36mpolarity_scores\u001b[1;34m(self, text)\u001b[0m\n\u001b[0;32m    368\u001b[0m             \u001b[0mi\u001b[0m \u001b[1;33m=\u001b[0m \u001b[0mwords_and_emoticons\u001b[0m\u001b[1;33m.\u001b[0m\u001b[0mindex\u001b[0m\u001b[1;33m(\u001b[0m\u001b[0mitem\u001b[0m\u001b[1;33m)\u001b[0m\u001b[1;33m\u001b[0m\u001b[1;33m\u001b[0m\u001b[0m\n\u001b[0;32m    369\u001b[0m             if (\n\u001b[1;32m--> 370\u001b[1;33m                 \u001b[0mi\u001b[0m \u001b[1;33m<\u001b[0m \u001b[0mlen\u001b[0m\u001b[1;33m(\u001b[0m\u001b[0mwords_and_emoticons\u001b[0m\u001b[1;33m)\u001b[0m \u001b[1;33m-\u001b[0m \u001b[1;36m1\u001b[0m\u001b[1;33m\u001b[0m\u001b[1;33m\u001b[0m\u001b[0m\n\u001b[0m\u001b[0;32m    371\u001b[0m                 \u001b[1;32mand\u001b[0m \u001b[0mitem\u001b[0m\u001b[1;33m.\u001b[0m\u001b[0mlower\u001b[0m\u001b[1;33m(\u001b[0m\u001b[1;33m)\u001b[0m \u001b[1;33m==\u001b[0m \u001b[1;34m\"kind\"\u001b[0m\u001b[1;33m\u001b[0m\u001b[1;33m\u001b[0m\u001b[0m\n\u001b[0;32m    372\u001b[0m                 \u001b[1;32mand\u001b[0m \u001b[0mwords_and_emoticons\u001b[0m\u001b[1;33m[\u001b[0m\u001b[0mi\u001b[0m \u001b[1;33m+\u001b[0m \u001b[1;36m1\u001b[0m\u001b[1;33m]\u001b[0m\u001b[1;33m.\u001b[0m\u001b[0mlower\u001b[0m\u001b[1;33m(\u001b[0m\u001b[1;33m)\u001b[0m \u001b[1;33m==\u001b[0m \u001b[1;34m\"of\"\u001b[0m\u001b[1;33m\u001b[0m\u001b[1;33m\u001b[0m\u001b[0m\n",
      "\u001b[1;31mKeyboardInterrupt\u001b[0m: "
     ]
    }
   ],
   "source": [
    "# Create a blank text file mine is \n",
    "# speech.txt where we will write the speech\n",
    "# open and read the file\n",
    "text=open(\"TheComedies.txt\").read()\n",
    "\n",
    "# we learned in the previous article\n",
    "# we have to make the text lower\n",
    "# and remove the punctuations\n",
    "\n",
    "# make it lower\n",
    "text=text.lower()\n",
    "\n",
    "# remove the new line character\n",
    "text=text.replace(\"\\n\",\"\")\n",
    "\n",
    "# remove the punctuations\n",
    "# Now we will use the \n",
    "# str.maktrans(<to replace>,<with  whom to replace>, <to remove>)\n",
    "# as we want to remove the punctuations\n",
    "text=text.translate(str.maketrans(\"\",\"\",string.punctuation))\n",
    "\n",
    "# Now our text is clean\n",
    "# now make it tokenize\n",
    "tokenize_words=word_tokenize(text)\n",
    "\n",
    "print(len(tokenize_words))\n",
    "\n",
    "# now remove the stopwords\n",
    "# make a empty list where we\n",
    "# will keep our clean words\n",
    "clean_words=[]\n",
    "\n",
    "for i in tokenize_words:\n",
    "    # now nltk provides a stopwords list\n",
    "    # if our i present in it we will not\n",
    "    # store it\n",
    "    if i not in stopwords.words(\"english\"):\n",
    "        clean_words.append(i)\n",
    "# now we will catch the sentiment\n",
    "# will create a function\n",
    "def sentimentanalysis(text):\n",
    "    return SentimentIntensityAnalyzer().polarity_scores(text)\n",
    "# now we will find the sentiment attached to it as this\n",
    "# function returns a dictionary\n",
    "sentiments=sentimentanalysis(text)\n",
    "# now we will print the sentiments\n",
    "print(sentiments)"
   ]
  },
  {
   "cell_type": "code",
   "execution_count": null,
   "id": "0ef366ab",
   "metadata": {},
   "outputs": [],
   "source": [
    "unwanted = nltk.corpus.stopwords.words(\"english\")\n",
    "unwanted.extend([w.lower() for w in nltk.corpus.names.words()])\n",
    "\n",
    "our_stop_words = []\n",
    "with open('stopwords.txt', 'r') as file:\n",
    "    words = file.readlines()\n",
    "    for word in words:\n",
    "        our_stop_words.append(word.strip())\n",
    "\n",
    "unwanted.extend(our_stop_words)\n",
    "#print(unwanted)\n",
    "\n",
    "\n",
    "nltk.download('movie_reviews')\n",
    "nltk.download('averaged_perceptron_tagger')\n",
    "\n",
    "\n",
    "def skip_unwanted(pos_tuple):\n",
    "    word, tag = pos_tuple\n",
    "    if not word.isalpha() or word in unwanted:\n",
    "        return False\n",
    "    if tag.startswith(\"NN\"):\n",
    "        return False\n",
    "    return True\n",
    "\n",
    "cleaned_words = [word for word, tag in filter(\n",
    "    skip_unwanted,\n",
    "    nltk.pos_tag(nltk.corpus.movie_reviews.words(categories=[\"pos\"]))\n",
    ")]\n",
    "# negative_words = [word for word, tag in filter(\n",
    "#     skip_unwanted,\n",
    "#     nltk.pos_tag(nltk.corpus.movie_reviews.words(categories=[\"neg\"]))\n",
    "# )]\n",
    "\n"
   ]
  },
  {
   "cell_type": "code",
   "execution_count": 127,
   "id": "42d95d04",
   "metadata": {},
   "outputs": [
    {
     "name": "stdout",
     "output_type": "stream",
     "text": [
      "['films', 'adapted', 'from', 'comic', 'books', 'have', 'had', 'plenty', 'of', 'success']\n"
     ]
    }
   ],
   "source": [
    "print(nltk.corpus.movie_reviews.words(categories=[\"pos\"])[0:10])"
   ]
  },
  {
   "cell_type": "markdown",
   "id": "c4e1f79e",
   "metadata": {},
   "source": [
    "Stop words"
   ]
  },
  {
   "cell_type": "code",
   "execution_count": null,
   "id": "2982c874",
   "metadata": {},
   "outputs": [],
   "source": []
  }
 ],
 "metadata": {
  "kernelspec": {
   "display_name": "Python 3 (ipykernel)",
   "language": "python",
   "name": "python3"
  },
  "language_info": {
   "codemirror_mode": {
    "name": "ipython",
    "version": 3
   },
   "file_extension": ".py",
   "mimetype": "text/x-python",
   "name": "python",
   "nbconvert_exporter": "python",
   "pygments_lexer": "ipython3",
   "version": "3.9.7"
  }
 },
 "nbformat": 4,
 "nbformat_minor": 5
}
